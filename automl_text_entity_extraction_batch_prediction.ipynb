{
  "cells": [
    {
      "cell_type": "code",
      "execution_count": 1,
      "metadata": {
        "id": "copyright"
      },
      "outputs": [],
      "source": [
        "# Copyright 2021 Google LLC\n",
        "#\n",
        "# Licensed under the Apache License, Version 2.0 (the \"License\");\n",
        "# you may not use this file except in compliance with the License.\n",
        "# You may obtain a copy of the License at\n",
        "#\n",
        "#     https://www.apache.org/licenses/LICENSE-2.0\n",
        "#\n",
        "# Unless required by applicable law or agreed to in writing, software\n",
        "# distributed under the License is distributed on an \"AS IS\" BASIS,\n",
        "# WITHOUT WARRANTIES OR CONDITIONS OF ANY KIND, either express or implied.\n",
        "# See the License for the specific language governing permissions and\n",
        "# limitations under the License."
      ]
    },
    {
      "cell_type": "markdown",
      "metadata": {
        "id": "title"
      },
      "source": [
        "# AutoML training text entity extraction model for batch prediction\n",
        "\n",
        "<table align=\"left\">\n",
        "  <td>\n",
        "    <a href=\"https://colab.research.google.com/github/GoogleCloudPlatform/vertex-ai-samples/blob/main/notebooks/official/automl/automl_text_entity_extraction_batch_prediction.ipynb\">\n",
        "      <img src=\"https://cloud.google.com/ml-engine/images/colab-logo-32px.png\" alt=\"Colab logo\"> Run in Colab\n",
        "    </a>\n",
        "  </td>\n",
        "  <td>\n",
        "    <a href=\"https://github.com/GoogleCloudPlatform/vertex-ai-samples/blob/main/notebooks/official/automl/automl_text_entity_extraction_batch_prediction.ipynb\">\n",
        "      <img src=\"https://cloud.google.com/ml-engine/images/github-logo-32px.png\" alt=\"GitHub logo\">\n",
        "      View on GitHub\n",
        "    </a>\n",
        "  </td>\n",
        "  <td>\n",
        "    <a href=\"https://console.cloud.google.com/vertex-ai/workbench/deploy-notebook?download_url=https://raw.githubusercontent.com/GoogleCloudPlatform/vertex-ai-samples/main/notebooks/official/automl/automl_text_entity_extraction_batch_prediction.ipynb\">\n",
        "        <img src=\"https://lh3.googleusercontent.com/UiNooY4LUgW_oTvpsNhPpQzsstV5W8F7rYgxgGBD85cWJoLmrOzhVs_ksK_vgx40SHs7jCqkTkCk=e14-rj-sc0xffffff-h130-w32\" alt=\"Vertex AI logo\">\n",
        "      Open in Vertex AI Workbench\n",
        "    </a>\n",
        "  </td>\n",
        "</table>\n",
        "<br/><br/><br/>"
      ]
    },
    {
      "cell_type": "markdown",
      "metadata": {
        "id": "overview:automl"
      },
      "source": [
        "## Overview\n",
        "\n",
        "\n",
        "This tutorial demonstrates how to use the Vertex AI SDK to create text entity extraction models and do batch prediction using a Google Cloud [AutoML](https://cloud.google.com/vertex-ai/docs/start/automl-users) model.\n",
        "\n",
        "Learn more about [Entity extraction for text data](https://cloud.google.com/vertex-ai/docs/training-overview#entity_extraction_for_text)."
      ]
    },
    {
      "cell_type": "markdown",
      "metadata": {
        "id": "objective:automl,training,batch_prediction"
      },
      "source": [
        "### Objective\n",
        "\n",
        "In this tutorial, you create an AutoML text entity extraction model from a Python script, and then do a batch prediction using the Vertex AI SDK. You can alternatively create and deploy models using the `gcloud` command-line tool or online using the Cloud Console.\n",
        "\n",
        "The steps performed include:\n",
        "\n",
        "- Create a Vertex `Dataset` resource.\n",
        "- Train the model.\n",
        "- View the model evaluation.\n",
        "- Make a batch prediction.\n",
        "\n",
        "There is one key difference between using batch prediction and using online prediction:\n",
        "\n",
        "* Prediction Service: Does an on-demand prediction for the entire set of instances (i.e., one or more data items) and returns the results in real-time.\n",
        "\n",
        "* Batch Prediction Service: Does a queued (batch) prediction for the entire set of instances in the background and stores the results in a Cloud Storage bucket when ready."
      ]
    },
    {
      "cell_type": "markdown",
      "metadata": {
        "id": "dataset:biomedical,ten"
      },
      "source": [
        "### Dataset\n",
        "\n",
        "The dataset used for this tutorial is the [NCBI Disease Research Abstracts dataset](https://www.ncbi.nlm.nih.gov/CBBresearch/Dogan/DISEASE/) from [National Center for Biotechnology Information](https://www.ncbi.nlm.nih.gov/). The version of the dataset you will use in this tutorial is stored in a public Cloud Storage bucket."
      ]
    },
    {
      "cell_type": "markdown",
      "metadata": {
        "id": "costs"
      },
      "source": [
        "### Costs\n",
        "\n",
        "This tutorial uses billable components of Google Cloud:\n",
        "\n",
        "* Vertex AI\n",
        "* Cloud Storage\n",
        "\n",
        "Learn about [Vertex AI\n",
        "pricing](https://cloud.google.com/vertex-ai/pricing) and [Cloud Storage\n",
        "pricing](https://cloud.google.com/storage/pricing), and use the [Pricing\n",
        "Calculator](https://cloud.google.com/products/calculator/)\n",
        "to generate a cost estimate based on your projected usage."
      ]
    },
    {
      "cell_type": "markdown",
      "metadata": {
        "id": "db52a0a61fca"
      },
      "source": [
        "### Installation\n",
        "\n",
        "Install the following packages for executing this notebook."
      ]
    },
    {
      "cell_type": "code",
      "execution_count": 2,
      "metadata": {
        "id": "b75757581291",
        "colab": {
          "base_uri": "https://localhost:8080/"
        },
        "outputId": "b1745649-c720-46e4-e457-c2c460f545fa"
      },
      "outputs": [
        {
          "output_type": "stream",
          "name": "stdout",
          "text": [
            "\u001b[2K     \u001b[90m━━━━━━━━━━━━━━━━━━━━━━━━━━━━━━━━━━━━━━━━\u001b[0m \u001b[32m475.2/475.2 MB\u001b[0m \u001b[31m2.5 MB/s\u001b[0m eta \u001b[36m0:00:00\u001b[0m\n",
            "\u001b[?25h"
          ]
        }
      ],
      "source": [
        "# install packages\n",
        "! pip3 install --upgrade --quiet google-cloud-aiplatform \\\n",
        "                                    jsonlines -q\n",
        "! pip3 install --upgrade tensorflow -q"
      ]
    },
    {
      "cell_type": "markdown",
      "metadata": {
        "id": "e9255e3b156f"
      },
      "source": [
        "### Colab Only: Uncomment the following cell to restart the kernel"
      ]
    },
    {
      "cell_type": "code",
      "execution_count": 4,
      "metadata": {
        "id": "0c0b2427998a"
      },
      "outputs": [],
      "source": [
        "# Automatically restart kernel after installs so that your environment can access the new packages\n",
        "# import IPython\n",
        "\n",
        "# app = IPython.Application.instance()\n",
        "# app.kernel.do_shutdown(True)"
      ]
    },
    {
      "cell_type": "markdown",
      "metadata": {
        "id": "435b8e413535"
      },
      "source": [
        "### Before you begin\n",
        "\n",
        "#### Set your project ID\n",
        "\n",
        "**If you don't know your project ID**, try the following:\n",
        "-  Run `gcloud config list`\n",
        "-  Run `gcloud projects list`\n",
        "-  See the support page: [Locate the project ID](https://support.google.com/googleapi/answer/7014113)"
      ]
    },
    {
      "cell_type": "code",
      "source": [
        "PROJECT_ID = \"platformwenda-1571901528109\"  # @param {type:\"string\"}\n",
        "\n",
        "# set the project id\n",
        "! gcloud config set project $PROJECT_ID"
      ],
      "metadata": {
        "colab": {
          "base_uri": "https://localhost:8080/"
        },
        "id": "ooObiNjeul1M",
        "outputId": "01b51a22-ef50-4342-eb2b-48c324811c23"
      },
      "execution_count": 5,
      "outputs": [
        {
          "output_type": "stream",
          "name": "stdout",
          "text": [
            "Updated property [core/project].\n"
          ]
        }
      ]
    },
    {
      "cell_type": "markdown",
      "metadata": {
        "id": "2e6b8b324ce1"
      },
      "source": [
        "#### Region\n",
        "\n",
        "You can also change the `REGION` variable used by Vertex AI.\n",
        "Learn more about [Vertex AI regions](https://cloud.google.com/vertex-ai/docs/general/locations)."
      ]
    },
    {
      "cell_type": "code",
      "execution_count": 6,
      "metadata": {
        "id": "region"
      },
      "outputs": [],
      "source": [
        "REGION = \"us-central1\"  # @param {type: \"string\"}"
      ]
    },
    {
      "cell_type": "markdown",
      "metadata": {
        "id": "6c43a8673066"
      },
      "source": [
        "### Authenticate your Google Cloud account\n",
        "\n",
        "Depending on your Jupyter environment, you may have to manually authenticate. Follow the relevant instructions below.\n",
        "\n",
        "**1. Vertex AI Workbench**\n",
        "- Do nothing as you are already authenticated.\n",
        "\n",
        "**2. Local JupyterLab Instance,** uncomment and run."
      ]
    },
    {
      "cell_type": "code",
      "execution_count": 7,
      "metadata": {
        "id": "fbc9cd30cc4b",
        "colab": {
          "base_uri": "https://localhost:8080/"
        },
        "outputId": "53371bb4-c72f-4241-b786-4d88f6733b18"
      },
      "outputs": [
        {
          "output_type": "stream",
          "name": "stdout",
          "text": [
            "Go to the following link in your browser:\n",
            "\n",
            "    https://accounts.google.com/o/oauth2/auth?response_type=code&client_id=32555940559.apps.googleusercontent.com&redirect_uri=https%3A%2F%2Fsdk.cloud.google.com%2Fauthcode.html&scope=openid+https%3A%2F%2Fwww.googleapis.com%2Fauth%2Fuserinfo.email+https%3A%2F%2Fwww.googleapis.com%2Fauth%2Fcloud-platform+https%3A%2F%2Fwww.googleapis.com%2Fauth%2Fappengine.admin+https%3A%2F%2Fwww.googleapis.com%2Fauth%2Fsqlservice.login+https%3A%2F%2Fwww.googleapis.com%2Fauth%2Fcompute+https%3A%2F%2Fwww.googleapis.com%2Fauth%2Faccounts.reauth&state=FC8jMAzclw69toj2EJSpV1eNdzwNPF&prompt=consent&access_type=offline&code_challenge=-RnbYZ-R8p2Fu-x6ymxOXasZok2MW6T6bptKhWz4h6o&code_challenge_method=S256\n",
            "\n",
            "Enter authorization code: 4/0AfJohXkHUcgsthE43JmMfsESO2mPp7JTInbCUxIP8sGHwQXlzj6NReo7t6B2kwItUmMlIw\n",
            "\n",
            "You are now logged in as [jyoti@wenda-it.com].\n",
            "Your current project is [platformwenda-1571901528109].  You can change this setting by running:\n",
            "  $ gcloud config set project PROJECT_ID\n"
          ]
        }
      ],
      "source": [
        "! gcloud auth login"
      ]
    },
    {
      "cell_type": "markdown",
      "metadata": {
        "id": "cd0da2c26879"
      },
      "source": [
        "**3. Colab,** uncomment and run:"
      ]
    },
    {
      "cell_type": "code",
      "execution_count": 8,
      "metadata": {
        "id": "a336a05c6149"
      },
      "outputs": [],
      "source": [
        "from google.colab import auth\n",
        "auth.authenticate_user()"
      ]
    },
    {
      "cell_type": "markdown",
      "metadata": {
        "id": "0461097edfa5"
      },
      "source": [
        "**4. Service Account or other**\n",
        "- See all the authentication options here: [Google Cloud Platform Jupyter Notebook Authentication Guide](https://github.com/GoogleCloudPlatform/vertex-ai-samples/blob/main/notebooks/notebook_authentication_guide.ipynb)"
      ]
    },
    {
      "cell_type": "markdown",
      "metadata": {
        "id": "e5755d1a554f"
      },
      "source": [
        "### Create a Cloud Storage bucket\n",
        "\n",
        "Create a storage bucket to store intermediate artifacts such as datasets."
      ]
    },
    {
      "cell_type": "code",
      "execution_count": 9,
      "metadata": {
        "id": "d2de92accb67"
      },
      "outputs": [],
      "source": [
        "BUCKET_URI = f\"gs://your-bucket-name-{PROJECT_ID}-unique\"  # @param {type:\"string\"}"
      ]
    },
    {
      "cell_type": "markdown",
      "metadata": {
        "id": "b72bfdf29dae"
      },
      "source": [
        "**Only if your bucket doesn't already exist**: Run the following cell to create your Cloud Storage bucket."
      ]
    },
    {
      "cell_type": "code",
      "execution_count": 10,
      "metadata": {
        "id": "create_bucket",
        "colab": {
          "base_uri": "https://localhost:8080/"
        },
        "outputId": "e1dbc909-2e2d-4a24-cffa-a3a2207fffb4"
      },
      "outputs": [
        {
          "output_type": "stream",
          "name": "stdout",
          "text": [
            "Creating gs://your-bucket-name-platformwenda-1571901528109-unique/...\n"
          ]
        }
      ],
      "source": [
        "! gsutil mb -l $REGION $BUCKET_URI"
      ]
    },
    {
      "cell_type": "markdown",
      "metadata": {
        "id": "setup_vars"
      },
      "source": [
        "### Set up variables\n",
        "\n",
        "Next, set up some variables used throughout the tutorial.\n",
        "### Import libraries and define constants"
      ]
    },
    {
      "cell_type": "code",
      "execution_count": 11,
      "metadata": {
        "id": "import_aip:mbsdk"
      },
      "outputs": [],
      "source": [
        "import google.cloud.aiplatform as aiplatform"
      ]
    },
    {
      "cell_type": "markdown",
      "metadata": {
        "id": "init_aip:mbsdk"
      },
      "source": [
        "## Initialize Vertex AI SDK for Python\n",
        "\n",
        "Initialize the Vertex AI SDK for Python for your project and corresponding bucket."
      ]
    },
    {
      "cell_type": "code",
      "execution_count": 12,
      "metadata": {
        "id": "jADgk6pRubb9"
      },
      "outputs": [],
      "source": [
        "aiplatform.init(project=PROJECT_ID, staging_bucket=BUCKET_URI)"
      ]
    },
    {
      "cell_type": "markdown",
      "metadata": {
        "id": "tutorial_start:automl"
      },
      "source": [
        "# Tutorial\n",
        "\n",
        "Now you are ready to start creating your own AutoML text entity extraction model."
      ]
    },
    {
      "cell_type": "markdown",
      "metadata": {
        "id": "import_file:u_dataset,jsonl"
      },
      "source": [
        "#### Location of Cloud Storage training data.\n",
        "\n",
        "Now set the variable `IMPORT_FILE` to the location of the JSONL index file in Cloud Storage."
      ]
    },
    {
      "cell_type": "code",
      "execution_count": 13,
      "metadata": {
        "id": "import_file:biomedical,jsonl,ten"
      },
      "outputs": [],
      "source": [
        "IMPORT_FILE = \"gs://cloud-samples-data/language/ucaip_ten_dataset.jsonl\""
      ]
    },
    {
      "cell_type": "markdown",
      "metadata": {
        "id": "quick_peek:jsonl"
      },
      "source": [
        "#### Quick peek at your data\n",
        "\n",
        "This tutorial uses a version of the NCBI Biomedical dataset that is stored in a public Cloud Storage bucket, using a JSONL index file.\n",
        "\n",
        "Start by doing a quick peek at the data. You count the number of examples by counting the number of objects in a JSONL index file  (`wc -l`) and then peek at the first few rows."
      ]
    },
    {
      "cell_type": "code",
      "execution_count": 14,
      "metadata": {
        "colab": {
          "base_uri": "https://localhost:8080/"
        },
        "id": "I3FSz7rCubb9",
        "outputId": "96cb8d67-99de-45af-eff7-7ff656f038f5"
      },
      "outputs": [
        {
          "output_type": "stream",
          "name": "stdout",
          "text": [
            "Number of Examples 469\n",
            "First 10 rows\n",
            "{'text_segment_annotations': [{'endOffset': 54, 'startOffset': 27, 'displayName': 'SpecificDisease'}, {'endOffset': 173, 'startOffset': 156, 'displayName': 'SpecificDisease'}, {'endOffset': 179, 'startOffset': 176, 'displayName': 'SpecificDisease'}, {'endOffset': 246, 'startOffset': 243, 'displayName': 'Modifier'}, {'endOffset': 340, 'startOffset': 337, 'displayName': 'Modifier'}, {'endOffset': 698, 'startOffset': 695, 'displayName': 'Modifier'}], 'textContent': '1301937\\tMolecular basis of hexosaminidase A deficiency and pseudodeficiency in the Berks County Pennsylvania Dutch.\\tFollowing the birth of two infants with Tay-Sachs disease ( TSD ) , a non-Jewish , Pennsylvania Dutch kindred was screened for TSD carriers using the biochemical assay . A high frequency of individuals who appeared to be TSD heterozygotes was detected ( Kelly et al . , 1975 ) . Clinical and biochemical evidence suggested that the increased carrier frequency was due to at least two altered alleles for the hexosaminidase A alpha-subunit . We now report two mutant alleles in this Pennsylvania Dutch kindred , and one polymorphism . One allele , reported originally in a French TSD patient ( Akli et al . , 1991 ) , is a GT-- > AT transition at the donor splice-site of intron 9 . The second , a C-- > T transition at nucleotide 739 ( Arg247Trp ) , has been shown by Triggs-Raine et al . ( 1992 ) to be a clinically benign \" pseudodeficient \" allele associated with reduced enzyme activity against artificial substrate . Finally , a polymorphism [ G-- > A ( 759 ) ] , which leaves valine at codon 253 unchanged , is described  .\\n '}\n",
            "{'text_segment_annotations': [{'endOffset': 33, 'startOffset': 21, 'displayName': 'Modifier'}, {'endOffset': 38, 'startOffset': 35, 'displayName': 'Modifier'}, {'endOffset': 214, 'startOffset': 202, 'displayName': 'SpecificDisease'}, {'endOffset': 220, 'startOffset': 217, 'displayName': 'SpecificDisease'}, {'endOffset': 393, 'startOffset': 390, 'displayName': 'Modifier'}, {'endOffset': 534, 'startOffset': 531, 'displayName': 'Modifier'}, {'endOffset': 682, 'startOffset': 679, 'displayName': 'SpecificDisease'}], 'textContent': '10205262\\tAnalysis of alkaptonuria (AKU) mutations and polymorphisms reveals that the CCC sequence motif is a mutational hot spot in the homogentisate 1,2 dioxygenase gene (HGO).\\tWe recently showed that alkaptonuria ( AKU ) is caused by loss-of-function mutations in the homogentisate 1 , 2 dioxygenase gene ( HGO ) . Herein we describe haplotype and mutational analyses of HGO in seven new AKU pedigrees . These analyses identified two novel single-nucleotide polymorphisms ( INV4 + 31A-- > G and INV11 + 18A-- > G ) and six novel AKU mutations ( INV1-1G-- > A , W60G , Y62C , A122D , P230T , and D291E ) , which further illustrates the remarkable allelic heterogeneity found in AKU . Reexamination of all 29 mutations and polymorphisms thus far described in HGO shows that these nucleotide changes are not randomly distributed ; the CCC sequence motif and its inverted complement , GGG , are preferentially mutated . These analyses also demonstrated that the nucleotide substitutions in HGO do not involve CpG dinucleotides , which illustrates important differences between HGO and other genes for the occurrence of mutation at specific short-sequence motifs . Because the CCC sequence motifs comprise a significant proportion ( 34 . 5 % ) of all mutated bases that have been observed in HGO , we conclude that the CCC triplet is a mutational hot spot in HGO . \\n '}\n",
            "{'text_segment_annotations': [{'endOffset': 59, 'startOffset': 39, 'displayName': 'SpecificDisease'}, {'endOffset': 78, 'startOffset': 61, 'displayName': 'SpecificDisease'}, {'endOffset': 105, 'startOffset': 84, 'displayName': 'SpecificDisease'}, {'endOffset': 316, 'startOffset': 277, 'displayName': 'SpecificDisease'}, {'endOffset': 344, 'startOffset': 327, 'displayName': 'SpecificDisease'}, {'endOffset': 379, 'startOffset': 351, 'displayName': 'SpecificDisease'}, {'endOffset': 1090, 'startOffset': 1070, 'displayName': 'SpecificDisease'}, {'endOffset': 1230, 'startOffset': 1205, 'displayName': 'SpecificDisease'}, {'endOffset': 1420, 'startOffset': 1400, 'displayName': 'SpecificDisease'}, {'endOffset': 1494, 'startOffset': 1473, 'displayName': 'SpecificDisease'}, {'endOffset': 1618, 'startOffset': 1598, 'displayName': 'SpecificDisease'}, {'endOffset': 1657, 'startOffset': 1637, 'displayName': 'SpecificDisease'}], 'textContent': '8240110\\tPhenotypic variation including retinitis pigmentosa, pattern dystrophy, and fundus flavimaculatus in a single family with a deletion of codon 153 or 154 of the peripherin/RDS gene.\\tBACKGROUND AND OBJECTIVES  Mutations of the peripherin / RDS gene have been reported in autosomal dominant retinitis pigmentosa , pattern macular dystrophy , and retinitis punctata albescens . We report herein the occurrence of three separate phenotypes within a single family with a novel 3-base pair deletion of codon 153 or 154 of the peripherin / RDS gene . DESIGN  Case reports with clinical features , fluorescein angiography , kinetic perimetry , electrophysiological studies , and molecular genetics . SETTING  University medical centers . PATIENTS  A 75-year-old woman , her two daughters ( aged 44 and 50 years ) , and her 49-year-old son were screened for peripherin / RDS mutations because of the presence of multiple phenotypes within the same family . RESULTS  The mother presented at age 63 years with a profoundly abnormal electroretinogram ( ERG ) and adult-onset retinitis pigmentosa that progressed dramatically over 12 years , with marked loss of peripheral visual field . One daughter developed pattern macular dystrophy at age 31 years . At age 44 years , her ERG was moderately abnormal but her clinical disease was limited to the macula . Another daughter presented at age 42 years with macular degeneration and over 10 years developed the clinical picture of fundus flavimaculatus . Her peripheral visual field was preserved but her ERG was moderately abnormal . The son had onset of macular degeneration at age 44 years . Pericentral scotomas were present and the ERG was markedly abnormal . Fluorescein angiography revealed punctate pigment epithelial transmission defects . CONCLUSIONS  A 3-base pair deletion of codon 153 or 154 of the peripherin / RDS gene can produce clinically disparate phenotypes even within the same family . . \\n '}\n",
            "{'text_segment_annotations': [{'endOffset': 54, 'startOffset': 33, 'displayName': 'Modifier'}, {'endOffset': 287, 'startOffset': 266, 'displayName': 'SpecificDisease'}, {'endOffset': 292, 'startOffset': 290, 'displayName': 'SpecificDisease'}, {'endOffset': 1236, 'startOffset': 1234, 'displayName': 'Modifier'}], 'textContent': '10330348\\tSplicing defects in the ataxia-telangiectasia gene, ATM: underlying mutations and consequences.\\tMutations resulting in defective splicing constitute a significant proportion ( 30 / 62 [ 48 % ] ) of a new series of mutations in the ATM gene in patients with ataxia-telangiectasia ( AT ) that were detected by the protein-truncation assay followed by sequence analysis of genomic DNA . Fewer than half of the splicing mutations involved the canonical AG splice-acceptor site or GT splice-donor site . A higher percentage of mutations occurred at less stringently conserved sites , including silent mutations of the last nucleotide of exons , mutations in nucleotides other than the conserved AG and GT in the consensus splice sites , and creation of splice-acceptor or splice-donor sites in either introns or exons . These splicing mutations led to a variety of consequences , including exon skipping and , to a lesser degree , intron retention , activation of cryptic splice sites , or creation of new splice sites . In addition , 5 of 12 nonsense mutations and 1 missense mutation were associated with deletion in the cDNA of the exons in which the mutations occurred . No ATM protein was detected by western blotting in any AT cell line in which splicing mutations were identified . Several cases of exon skipping in both normal controls and patients for whom no underlying defect could be found in genomic DNA were also observed , suggesting caution in the interpretation of exon deletions observed in ATM cDNA when there is no accompanying identification of genomic mutations . . \\n '}\n",
            "{'text_segment_annotations': [{'endOffset': 84, 'startOffset': 70, 'displayName': 'SpecificDisease'}, {'endOffset': 100, 'startOffset': 86, 'displayName': 'SpecificDisease'}, {'endOffset': 139, 'startOffset': 111, 'displayName': 'DiseaseClass'}, {'endOffset': 269, 'startOffset': 264, 'displayName': 'Modifier'}, {'endOffset': 325, 'startOffset': 299, 'displayName': 'SpecificDisease'}, {'endOffset': 436, 'startOffset': 427, 'displayName': 'Modifier'}, {'endOffset': 481, 'startOffset': 467, 'displayName': 'Modifier'}, {'endOffset': 717, 'startOffset': 712, 'displayName': 'Modifier'}, {'endOffset': 775, 'startOffset': 749, 'displayName': 'SpecificDisease'}, {'endOffset': 892, 'startOffset': 877, 'displayName': 'SpecificDisease'}, {'endOffset': 1003, 'startOffset': 998, 'displayName': 'Modifier'}, {'endOffset': 1134, 'startOffset': 1120, 'displayName': 'SpecificDisease'}, {'endOffset': 1245, 'startOffset': 1240, 'displayName': 'Modifier'}], 'textContent': '10398436\\tBeta-catenin accumulation and mutation of the CTNNB1 gene in hepatoblastoma.\\tHepatoblastoma is a rare malignant tumor of the liver that occurs in children at an average age of 2 to 3 years . Epidemiologic studies have shown an increased frequency of this tumor type in families affected by adenomatous polyposis coli . In addition to the epidemiologic data , molecular genetic studies suggest that inactivation of the APC tumor suppressor may be involved in hepatoblastoma tumorigenesis . A major function of APC is the downregulation of beta-catenin , a transcription-activating protein with oncogenic potential . In an ongoing immunohistochemical study of beta-catenin expression in sporadic cases of tumor types that are associated with adenomatous polyposis coli , we observed increased beta-catenin levels in the cytoplasm and in the nuclei of three investigated hepatoblastomas . Sequencing of exon 3 of the beta-catenin gene ( CTNNB1 ) revealed an activating mutation in one of the tumor samples . Our data indicate for the first time that beta-catenin accumulation may play a role in the development of hepatoblastoma and that activating mutations of the beta-catenin gene may substitute biallelic APC inactivation in this tumor type . Genes Chromosomes Cancer 25  399-402 , 1999 . . \\n '}\n",
            "{'text_segment_annotations': [{'endOffset': 32, 'startOffset': 29, 'displayName': 'Modifier'}, {'endOffset': 163, 'startOffset': 137, 'displayName': 'SpecificDisease'}, {'endOffset': 272, 'startOffset': 246, 'displayName': 'SpecificDisease'}, {'endOffset': 278, 'startOffset': 275, 'displayName': 'SpecificDisease'}, {'endOffset': 786, 'startOffset': 780, 'displayName': 'Modifier'}, {'endOffset': 921, 'startOffset': 918, 'displayName': 'Modifier'}, {'endOffset': 1240, 'startOffset': 1237, 'displayName': 'Modifier'}], 'textContent': '8162051\\tRegionally clustered APC mutations are associated with a severe phenotype and occur at a high frequency in new mutation cases of adenomatous polyposis coli.\\tGermline mutation in APC at 5q21-22 results in the dominantly inherited syndrome adenomatous polyposis coli ( APC ) . Somatic mutation in this gene is an early event in colorectal tumourigenesis . Both types of mutation are concentrated in the 5 half of exon 15 . We have used single strand conformational polymorphism ( SSCP ) and heteroduplex analysis to screen for variants in this region of the gene in a total of 45 affected but unrelated individuals . Eighteen patients had no family history of the disease ; of these 11 were classified as having a severe phenotype , based on an early age at presentation or cancer development . This compared with 6 of 27 familial cases . A 5 bp deletion at codon 1309 reported to occur in 10-15 % of unselected APC patients worldwide , was found in 5 of the 18 new mutation cases and 4 of the 27 familial cases  all nine were classed as severe . A further 3 new mutations and 1 familial mutation were located downstream from codon 1309 , these individuals similarly being classed as phenotypically severe . In contrast all of the APC mutations detected in affected individuals with an average phenotype were located prior to codon 1309 . The frequent association of a severe phenotype with fresh mutation may explain the apparent conflict of a high mutation rate ( 20-30 % ) in a condition , which on average , is lethal at a post-reproductive age . . \\n '}\n",
            "{'text_segment_annotations': [{'endOffset': 75, 'startOffset': 54, 'displayName': 'Modifier'}, {'endOffset': 99, 'startOffset': 86, 'displayName': 'Modifier'}, {'endOffset': 159, 'startOffset': 124, 'displayName': 'SpecificDisease'}, {'endOffset': 224, 'startOffset': 192, 'displayName': 'CompositeMention'}, {'endOffset': 331, 'startOffset': 312, 'displayName': 'Modifier'}, {'endOffset': 504, 'startOffset': 479, 'displayName': 'CompositeMention'}, {'endOffset': 620, 'startOffset': 607, 'displayName': 'SpecificDisease'}, {'endOffset': 638, 'startOffset': 624, 'displayName': 'SpecificDisease'}, {'endOffset': 699, 'startOffset': 685, 'displayName': 'SpecificDisease'}, {'endOffset': 838, 'startOffset': 820, 'displayName': 'SpecificDisease'}, {'endOffset': 970, 'startOffset': 952, 'displayName': 'SpecificDisease'}, {'endOffset': 1007, 'startOffset': 992, 'displayName': 'SpecificDisease'}, {'endOffset': 1095, 'startOffset': 1058, 'displayName': 'SpecificDisease'}, {'endOffset': 1198, 'startOffset': 1185, 'displayName': 'SpecificDisease'}, {'endOffset': 1243, 'startOffset': 1229, 'displayName': 'SpecificDisease'}], 'textContent': '7825586\\tAn evaluation of genetic heterogeneity in 145 breast-ovarian cancer families. Breast Cancer Linkage Consortium.\\tThe breast-ovary cancer-family syndrome is a dominant predisposition to cancer of the breast and ovaries which has been mapped to chromosome region 17q12-q21 . The majority , but not all , of breast-ovary cancer families show linkage to this susceptibility locus , designated BRCA1 . We report here the results of a linkage analysis of 145 families with both breast and ovarian cancer . These families contain either a total of three or more cases of early-onset ( before age 60 years ) breast cancer or ovarian cancer . All families contained at least one case of ovarian cancer . Overall , an estimated 76 % of the 145 families are linked to the BRCA1 locus . None of the 13 families with cases of male breast cancer appear to be linked , but it is estimated that 92 % ( 95 % confidence interval 76 % -100 % ) of families with no male breast cancer and with two or more ovarian cancers are linked to BRCA1 . These data suggest that the breast-ovarian cancer-family syndrome is genetically heterogeneous . However , the large majority of families with early-onset breast cancer and with two or more cases of ovarian cancer are likely to be due to BRCA1 mutations . . \\n '}\n",
            "{'text_segment_annotations': [{'endOffset': 15, 'startOffset': 12, 'displayName': 'Modifier'}, {'endOffset': 68, 'startOffset': 38, 'displayName': 'SpecificDisease'}, {'endOffset': 104, 'startOffset': 90, 'displayName': 'SpecificDisease'}, {'endOffset': 129, 'startOffset': 115, 'displayName': 'SpecificDisease'}, {'endOffset': 155, 'startOffset': 149, 'displayName': 'DiseaseClass'}, {'endOffset': 265, 'startOffset': 250, 'displayName': 'SpecificDisease'}, {'endOffset': 375, 'startOffset': 349, 'displayName': 'Modifier'}, {'endOffset': 381, 'startOffset': 378, 'displayName': 'Modifier'}, {'endOffset': 451, 'startOffset': 420, 'displayName': 'SpecificDisease'}, {'endOffset': 505, 'startOffset': 491, 'displayName': 'SpecificDisease'}, {'endOffset': 563, 'startOffset': 548, 'displayName': 'SpecificDisease'}, {'endOffset': 784, 'startOffset': 781, 'displayName': 'Modifier'}, {'endOffset': 802, 'startOffset': 796, 'displayName': 'DiseaseClass'}, {'endOffset': 852, 'startOffset': 846, 'displayName': 'DiseaseClass'}, {'endOffset': 1048, 'startOffset': 1045, 'displayName': 'Modifier'}, {'endOffset': 1141, 'startOffset': 1126, 'displayName': 'SpecificDisease'}], 'textContent': '1317264\\tThe APC gene, responsible for familial adenomatous polyposis, is mutated in human gastric cancer.\\tAlthough gastric cancer is the most common cancer in the world , genetic changes during its carcinogenesis are not well understood . Since some gastric cancers are considered to originate from the intestinal metaplasia , it is likely that the adenomatous polyposis coli ( APC ) gene , the mutation of which causes adenomatous polyps in the colon , is associated with carcinogenesis of gastric cancer . Based on this idea , DNAs isolated from gastric cancers were examined by means of a RNase protection analysis coupled with polymerase chain reaction followed by sequencing of the polymerase chain reaction products . By screening nearly one-half of the coding region of the APC gene in 44 tumors , somatic mutations were detected in three tumors  a missense mutation , a nonsense mutation , and a 5-base pair deletion resulting in a frame shift which causes truncation of the gene product . These results suggest that the mutation of the APC gene also plays an important role during the carcinogenesis of at least some gastric cancers . . \\n '}\n",
            "{'text_segment_annotations': [{'endOffset': 113, 'startOffset': 85, 'displayName': 'SpecificDisease'}, {'endOffset': 269, 'startOffset': 241, 'displayName': 'SpecificDisease'}], 'textContent': '1707231\\tA new mutation in the proteolipid protein (PLP) gene in a German family with Pelizaeus-Merzbacher disease.\\tA C-to-T transition in exon 4 of the PLP gene was found in 2 affected males and two obligate carriers in a German family with Pelizaeus-Merzbacher disease . The mutation , which causes loss of an HphI site and changes amino acid 155 from threonine to isoleucine , was absent from 108 normal chromosomes . There are 5 concordances and 1 discrepancy between these results and those obtained by magnetic resonance imaging in this family . . \\n '}\n",
            "{'text_segment_annotations': [{'endOffset': 64, 'startOffset': 46, 'displayName': 'Modifier'}, {'endOffset': 69, 'startOffset': 67, 'displayName': 'Modifier'}, {'endOffset': 124, 'startOffset': 106, 'displayName': 'SpecificDisease'}, {'endOffset': 129, 'startOffset': 127, 'displayName': 'SpecificDisease'}, {'endOffset': 402, 'startOffset': 400, 'displayName': 'Modifier'}, {'endOffset': 613, 'startOffset': 611, 'displayName': 'Modifier'}, {'endOffset': 669, 'startOffset': 667, 'displayName': 'Modifier'}, {'endOffset': 828, 'startOffset': 826, 'displayName': 'Modifier'}, {'endOffset': 1006, 'startOffset': 988, 'displayName': 'SpecificDisease'}], 'textContent': '8499920\\tStructure and genomic sequence of the myotonic dystrophy ( DM kinase ) gene.\\tThe mutation causing myotonic dystrophy ( DM ) has recently been identified as an unstable CTG trinucleotide repeat located in the 3 untranslated region of a gene encoding for a protein with putative serine-threonine protein kinase activity . In this report we present the genomic sequences of the human and murine DM kinase gene . A comparison of these sequences with each other and with known cDNA sequences from both species , led us to predict a translation initiation codon , as well as determine the organization of the DM kinase gene . Several polymorphisms within the human DM kinase gene have been identified , and PCR assays to detect two of these are described . The complete sequence and characterization of the structure of the DM kinase gene , as well as the identification of novel polymorphisms within the gene , represent an important step in a further understanding of the genetics of myotonic dystrophy and the molecular biology of the gene . . \\n '}\n"
          ]
        }
      ],
      "source": [
        "if \"IMPORT_FILES\" in globals():\n",
        "    FILE = IMPORT_FILES[0]\n",
        "else:\n",
        "    FILE = IMPORT_FILE\n",
        "\n",
        "count = ! gsutil cat $FILE | wc -l\n",
        "print(\"Number of Examples\", int(count[0]))\n",
        "\n",
        "print(\"First 10 rows\")\n",
        "! gsutil cat $FILE | head"
      ]
    },
    {
      "cell_type": "markdown",
      "metadata": {
        "id": "create_dataset:text,ten"
      },
      "source": [
        "### Create the Dataset\n",
        "\n",
        "Next, create the `Dataset` resource using the `create` method for the `TextDataset` class, which takes the following parameters:\n",
        "\n",
        "- `display_name`: The human readable name for the `Dataset` resource.\n",
        "- `gcs_source`: A list of one or more dataset index files to import the data items into the `Dataset` resource.\n",
        "- `import_schema_uri`: The data labeling schema for the data items.\n",
        "\n",
        "This operation may take several minutes."
      ]
    },
    {
      "cell_type": "code",
      "execution_count": 15,
      "metadata": {
        "colab": {
          "base_uri": "https://localhost:8080/"
        },
        "id": "5y_6QUy8ubb-",
        "outputId": "ace0df73-a92a-4c90-b8a3-da94ef8b4832"
      },
      "outputs": [
        {
          "output_type": "stream",
          "name": "stderr",
          "text": [
            "INFO:google.cloud.aiplatform.datasets.dataset:Creating TextDataset\n",
            "INFO:google.cloud.aiplatform.datasets.dataset:Create TextDataset backing LRO: projects/417928338756/locations/us-central1/datasets/827049347878223872/operations/5449631457817395200\n",
            "INFO:google.cloud.aiplatform.datasets.dataset:TextDataset created. Resource name: projects/417928338756/locations/us-central1/datasets/827049347878223872\n",
            "INFO:google.cloud.aiplatform.datasets.dataset:To use this TextDataset in another session:\n",
            "INFO:google.cloud.aiplatform.datasets.dataset:ds = aiplatform.TextDataset('projects/417928338756/locations/us-central1/datasets/827049347878223872')\n",
            "INFO:google.cloud.aiplatform.datasets.dataset:Importing TextDataset data: projects/417928338756/locations/us-central1/datasets/827049347878223872\n",
            "INFO:google.cloud.aiplatform.datasets.dataset:Import TextDataset data backing LRO: projects/417928338756/locations/us-central1/datasets/827049347878223872/operations/5522674214273810432\n",
            "INFO:google.cloud.aiplatform.datasets.dataset:TextDataset data imported. Resource name: projects/417928338756/locations/us-central1/datasets/827049347878223872\n"
          ]
        },
        {
          "output_type": "stream",
          "name": "stdout",
          "text": [
            "projects/417928338756/locations/us-central1/datasets/827049347878223872\n"
          ]
        }
      ],
      "source": [
        "dataset = aiplatform.TextDataset.create(\n",
        "    display_name=\"NCBI Biomedical\",\n",
        "    gcs_source=[IMPORT_FILE],\n",
        "    import_schema_uri=aiplatform.schema.dataset.ioformat.text.extraction,\n",
        ")\n",
        "\n",
        "print(dataset.resource_name)"
      ]
    },
    {
      "cell_type": "markdown",
      "metadata": {
        "id": "create_automl_pipeline:text,ten"
      },
      "source": [
        "### Create and run training pipeline\n",
        "\n",
        "To train an AutoML model, you perform two steps: 1) create a training pipeline, and 2) run the pipeline.\n",
        "\n",
        "#### Create training pipeline\n",
        "\n",
        "An AutoML training pipeline is created with the `AutoMLTextTrainingJob` class, with the following parameters:\n",
        "\n",
        "- `display_name`: The human readable name for the `TrainingJob` resource.\n",
        "- `prediction_type`: The type task to train the model for.\n",
        "  - `classification`: A text classification model.\n",
        "  - `sentiment`: A text sentiment analysis model.\n",
        "  - `extraction`: A text entity extraction model.\n",
        "- `multi_label`: If a classification task, whether single (False) or multi-labeled (True).\n",
        "- `sentiment_max`: If a sentiment analysis task, the maximum sentiment value.\n",
        "\n",
        "The instantiated object is the DAG (directed acyclic graph) for the training pipeline."
      ]
    },
    {
      "cell_type": "code",
      "execution_count": 16,
      "metadata": {
        "colab": {
          "base_uri": "https://localhost:8080/"
        },
        "id": "YUOOcg-Cubb-",
        "outputId": "c2b97615-ad9b-4457-e5b2-816b354bb5ea"
      },
      "outputs": [
        {
          "output_type": "stream",
          "name": "stdout",
          "text": [
            "<google.cloud.aiplatform.training_jobs.AutoMLTextTrainingJob object at 0x7fdb6bb028f0>\n"
          ]
        }
      ],
      "source": [
        "dag = aiplatform.AutoMLTextTrainingJob(\n",
        "    display_name=\"biomedical\", prediction_type=\"extraction\"\n",
        ")\n",
        "\n",
        "print(dag)"
      ]
    },
    {
      "cell_type": "markdown",
      "metadata": {
        "id": "run_automl_pipeline:text"
      },
      "source": [
        "#### Run the training pipeline\n",
        "\n",
        "Next, you run the DAG to start the training job by invoking the method `run`, with the following parameters:\n",
        "\n",
        "- `dataset`: The `Dataset` resource to train the model.\n",
        "- `model_display_name`: The human readable name for the trained model.\n",
        "- `training_fraction_split`: The percentage of the dataset to use for training.\n",
        "- `test_fraction_split`: The percentage of the dataset to use for test (holdout data).\n",
        "- `validation_fraction_split`: The percentage of the dataset to use for validation.\n",
        "\n",
        "The `run` method when completed returns the `Model` resource.\n",
        "\n",
        "The execution of the training pipeline will take upto 20 minutes."
      ]
    },
    {
      "cell_type": "code",
      "execution_count": 17,
      "metadata": {
        "colab": {
          "base_uri": "https://localhost:8080/"
        },
        "id": "QUwRVFooubb-",
        "outputId": "58108dd8-59ee-4e63-df0d-6030f3701347"
      },
      "outputs": [
        {
          "output_type": "stream",
          "name": "stderr",
          "text": [
            "INFO:google.cloud.aiplatform.training_jobs:View Training:\n",
            "https://console.cloud.google.com/ai/platform/locations/us-central1/training/7375071756245008384?project=417928338756\n",
            "INFO:google.cloud.aiplatform.training_jobs:AutoMLTextTrainingJob projects/417928338756/locations/us-central1/trainingPipelines/7375071756245008384 current state:\n",
            "PipelineState.PIPELINE_STATE_PENDING\n",
            "INFO:google.cloud.aiplatform.training_jobs:AutoMLTextTrainingJob projects/417928338756/locations/us-central1/trainingPipelines/7375071756245008384 current state:\n",
            "PipelineState.PIPELINE_STATE_PENDING\n",
            "INFO:google.cloud.aiplatform.training_jobs:AutoMLTextTrainingJob projects/417928338756/locations/us-central1/trainingPipelines/7375071756245008384 current state:\n",
            "PipelineState.PIPELINE_STATE_RUNNING\n",
            "INFO:google.cloud.aiplatform.training_jobs:AutoMLTextTrainingJob projects/417928338756/locations/us-central1/trainingPipelines/7375071756245008384 current state:\n",
            "PipelineState.PIPELINE_STATE_RUNNING\n",
            "INFO:google.cloud.aiplatform.training_jobs:AutoMLTextTrainingJob projects/417928338756/locations/us-central1/trainingPipelines/7375071756245008384 current state:\n",
            "PipelineState.PIPELINE_STATE_RUNNING\n",
            "INFO:google.cloud.aiplatform.training_jobs:AutoMLTextTrainingJob projects/417928338756/locations/us-central1/trainingPipelines/7375071756245008384 current state:\n",
            "PipelineState.PIPELINE_STATE_RUNNING\n",
            "INFO:google.cloud.aiplatform.training_jobs:AutoMLTextTrainingJob projects/417928338756/locations/us-central1/trainingPipelines/7375071756245008384 current state:\n",
            "PipelineState.PIPELINE_STATE_RUNNING\n",
            "INFO:google.cloud.aiplatform.training_jobs:AutoMLTextTrainingJob projects/417928338756/locations/us-central1/trainingPipelines/7375071756245008384 current state:\n",
            "PipelineState.PIPELINE_STATE_RUNNING\n",
            "INFO:google.cloud.aiplatform.training_jobs:AutoMLTextTrainingJob projects/417928338756/locations/us-central1/trainingPipelines/7375071756245008384 current state:\n",
            "PipelineState.PIPELINE_STATE_RUNNING\n",
            "INFO:google.cloud.aiplatform.training_jobs:AutoMLTextTrainingJob projects/417928338756/locations/us-central1/trainingPipelines/7375071756245008384 current state:\n",
            "PipelineState.PIPELINE_STATE_RUNNING\n",
            "INFO:google.cloud.aiplatform.training_jobs:AutoMLTextTrainingJob projects/417928338756/locations/us-central1/trainingPipelines/7375071756245008384 current state:\n",
            "PipelineState.PIPELINE_STATE_RUNNING\n",
            "INFO:google.cloud.aiplatform.training_jobs:AutoMLTextTrainingJob projects/417928338756/locations/us-central1/trainingPipelines/7375071756245008384 current state:\n",
            "PipelineState.PIPELINE_STATE_RUNNING\n",
            "INFO:google.cloud.aiplatform.training_jobs:AutoMLTextTrainingJob projects/417928338756/locations/us-central1/trainingPipelines/7375071756245008384 current state:\n",
            "PipelineState.PIPELINE_STATE_RUNNING\n",
            "INFO:google.cloud.aiplatform.training_jobs:AutoMLTextTrainingJob projects/417928338756/locations/us-central1/trainingPipelines/7375071756245008384 current state:\n",
            "PipelineState.PIPELINE_STATE_RUNNING\n",
            "INFO:google.cloud.aiplatform.training_jobs:AutoMLTextTrainingJob projects/417928338756/locations/us-central1/trainingPipelines/7375071756245008384 current state:\n",
            "PipelineState.PIPELINE_STATE_RUNNING\n",
            "INFO:google.cloud.aiplatform.training_jobs:AutoMLTextTrainingJob projects/417928338756/locations/us-central1/trainingPipelines/7375071756245008384 current state:\n",
            "PipelineState.PIPELINE_STATE_RUNNING\n",
            "INFO:google.cloud.aiplatform.training_jobs:AutoMLTextTrainingJob projects/417928338756/locations/us-central1/trainingPipelines/7375071756245008384 current state:\n",
            "PipelineState.PIPELINE_STATE_RUNNING\n",
            "INFO:google.cloud.aiplatform.training_jobs:AutoMLTextTrainingJob projects/417928338756/locations/us-central1/trainingPipelines/7375071756245008384 current state:\n",
            "PipelineState.PIPELINE_STATE_RUNNING\n",
            "INFO:google.cloud.aiplatform.training_jobs:AutoMLTextTrainingJob projects/417928338756/locations/us-central1/trainingPipelines/7375071756245008384 current state:\n",
            "PipelineState.PIPELINE_STATE_RUNNING\n",
            "INFO:google.cloud.aiplatform.training_jobs:AutoMLTextTrainingJob projects/417928338756/locations/us-central1/trainingPipelines/7375071756245008384 current state:\n",
            "PipelineState.PIPELINE_STATE_RUNNING\n",
            "INFO:google.cloud.aiplatform.training_jobs:AutoMLTextTrainingJob projects/417928338756/locations/us-central1/trainingPipelines/7375071756245008384 current state:\n",
            "PipelineState.PIPELINE_STATE_RUNNING\n",
            "INFO:google.cloud.aiplatform.training_jobs:AutoMLTextTrainingJob projects/417928338756/locations/us-central1/trainingPipelines/7375071756245008384 current state:\n",
            "PipelineState.PIPELINE_STATE_RUNNING\n",
            "INFO:google.cloud.aiplatform.training_jobs:AutoMLTextTrainingJob projects/417928338756/locations/us-central1/trainingPipelines/7375071756245008384 current state:\n",
            "PipelineState.PIPELINE_STATE_RUNNING\n",
            "INFO:google.cloud.aiplatform.training_jobs:AutoMLTextTrainingJob projects/417928338756/locations/us-central1/trainingPipelines/7375071756245008384 current state:\n",
            "PipelineState.PIPELINE_STATE_RUNNING\n",
            "INFO:google.cloud.aiplatform.training_jobs:AutoMLTextTrainingJob projects/417928338756/locations/us-central1/trainingPipelines/7375071756245008384 current state:\n",
            "PipelineState.PIPELINE_STATE_RUNNING\n",
            "INFO:google.cloud.aiplatform.training_jobs:AutoMLTextTrainingJob projects/417928338756/locations/us-central1/trainingPipelines/7375071756245008384 current state:\n",
            "PipelineState.PIPELINE_STATE_RUNNING\n",
            "INFO:google.cloud.aiplatform.training_jobs:AutoMLTextTrainingJob projects/417928338756/locations/us-central1/trainingPipelines/7375071756245008384 current state:\n",
            "PipelineState.PIPELINE_STATE_RUNNING\n",
            "INFO:google.cloud.aiplatform.training_jobs:AutoMLTextTrainingJob projects/417928338756/locations/us-central1/trainingPipelines/7375071756245008384 current state:\n",
            "PipelineState.PIPELINE_STATE_RUNNING\n",
            "INFO:google.cloud.aiplatform.training_jobs:AutoMLTextTrainingJob projects/417928338756/locations/us-central1/trainingPipelines/7375071756245008384 current state:\n",
            "PipelineState.PIPELINE_STATE_RUNNING\n",
            "INFO:google.cloud.aiplatform.training_jobs:AutoMLTextTrainingJob projects/417928338756/locations/us-central1/trainingPipelines/7375071756245008384 current state:\n",
            "PipelineState.PIPELINE_STATE_RUNNING\n",
            "INFO:google.cloud.aiplatform.training_jobs:AutoMLTextTrainingJob projects/417928338756/locations/us-central1/trainingPipelines/7375071756245008384 current state:\n",
            "PipelineState.PIPELINE_STATE_RUNNING\n",
            "INFO:google.cloud.aiplatform.training_jobs:AutoMLTextTrainingJob projects/417928338756/locations/us-central1/trainingPipelines/7375071756245008384 current state:\n",
            "PipelineState.PIPELINE_STATE_RUNNING\n",
            "INFO:google.cloud.aiplatform.training_jobs:AutoMLTextTrainingJob projects/417928338756/locations/us-central1/trainingPipelines/7375071756245008384 current state:\n",
            "PipelineState.PIPELINE_STATE_RUNNING\n",
            "INFO:google.cloud.aiplatform.training_jobs:AutoMLTextTrainingJob projects/417928338756/locations/us-central1/trainingPipelines/7375071756245008384 current state:\n",
            "PipelineState.PIPELINE_STATE_RUNNING\n",
            "INFO:google.cloud.aiplatform.training_jobs:AutoMLTextTrainingJob projects/417928338756/locations/us-central1/trainingPipelines/7375071756245008384 current state:\n",
            "PipelineState.PIPELINE_STATE_RUNNING\n",
            "INFO:google.cloud.aiplatform.training_jobs:AutoMLTextTrainingJob run completed. Resource name: projects/417928338756/locations/us-central1/trainingPipelines/7375071756245008384\n",
            "INFO:google.cloud.aiplatform.training_jobs:Model available at projects/417928338756/locations/us-central1/models/2598486825039298560\n"
          ]
        }
      ],
      "source": [
        "model = dag.run(\n",
        "    dataset=dataset,\n",
        "    model_display_name=\"biomedical\",\n",
        "    training_fraction_split=0.8,\n",
        "    validation_fraction_split=0.1,\n",
        "    test_fraction_split=0.1,\n",
        ")"
      ]
    },
    {
      "cell_type": "markdown",
      "metadata": {
        "id": "caaa3f32b12e"
      },
      "source": [
        "## Review model evaluation scores\n",
        "\n",
        "After your model training has finished, you can review the evaluation scores for it using the `list_model_evaluations()` method. This method will return an iterator for each evaluation slice."
      ]
    },
    {
      "cell_type": "code",
      "execution_count": 18,
      "metadata": {
        "id": "b0bb6be8621a",
        "colab": {
          "base_uri": "https://localhost:8080/"
        },
        "outputId": "0fef2fd0-e866-44c8-ed4b-9231bd3cf8b6"
      },
      "outputs": [
        {
          "output_type": "stream",
          "name": "stdout",
          "text": [
            "{'name': 'projects/417928338756/locations/us-central1/models/2598486825039298560@1/evaluations/4485594317011812352', 'metricsSchemaUri': 'gs://google-cloud-aiplatform/schema/modelevaluation/text_extraction_metrics_1.0.0.yaml', 'metrics': {'confidenceMetrics': [{'confidenceThreshold': 0.82, 'f1Score': 0.8095238, 'recall': 0.76939654, 'precision': 0.85406697}, {'confidenceThreshold': 0.2, 'f1Score': 0.799117, 'recall': 0.7801724, 'precision': 0.81900454}, {'recall': 0.7801724, 'confidenceThreshold': 0.34, 'precision': 0.81900454, 'f1Score': 0.799117}, {'f1Score': 0.80773604, 'confidenceThreshold': 0.86, 'recall': 0.76508623, 'precision': 0.85542166}, {'confidenceThreshold': 0.7, 'recall': 0.7737069, 'f1Score': 0.8085586, 'precision': 0.8466981}, {'f1Score': 0.799117, 'precision': 0.81900454, 'confidenceThreshold': 0.26, 'recall': 0.7801724}, {'f1Score': 0.799117, 'confidenceThreshold': 0.13, 'recall': 0.7801724, 'precision': 0.81900454}, {'precision': 0.86206895, 'recall': 0.75431037, 'confidenceThreshold': 0.9, 'f1Score': 0.80459774}, {'recall': 0.7737069, 'f1Score': 0.8085586, 'confidenceThreshold': 0.73, 'precision': 0.8466981}, {'precision': 0.86419755, 'recall': 0.75431037, 'f1Score': 0.80552363, 'confidenceThreshold': 0.91}, {'recall': 0.70258623, 'confidenceThreshold': 0.98, 'f1Score': 0.7808384, 'precision': 0.8787062}, {'precision': 0.81900454, 'recall': 0.7801724, 'confidenceThreshold': 0.04, 'f1Score': 0.799117}, {'confidenceThreshold': 0.79, 'f1Score': 0.8076923, 'recall': 0.76939654, 'precision': 0.85}, {'precision': 0.82045454, 'f1Score': 0.79867256, 'confidenceThreshold': 0.42, 'recall': 0.7780172}, {'confidenceThreshold': 0.52, 'f1Score': 0.8031146, 'precision': 0.82988507, 'recall': 0.7780172}, {'recall': 0.7780172, 'f1Score': 0.79867256, 'precision': 0.82045454, 'confidenceThreshold': 0.43}, {'recall': 0.7780172, 'confidenceThreshold': 0.49, 'f1Score': 0.8013318, 'precision': 0.82608694}, {'f1Score': 0.8031146, 'confidenceThreshold': 0.55, 'recall': 0.7780172, 'precision': 0.82988507}, {'f1Score': 0.8076491, 'recall': 0.7737069, 'precision': 0.8447059, 'confidenceThreshold': 0.66}, {'confidenceThreshold': 0.03, 'f1Score': 0.799117, 'precision': 0.81900454, 'recall': 0.7801724}, {'confidenceThreshold': 0.12, 'recall': 0.7801724, 'precision': 0.81900454, 'f1Score': 0.799117}, {'f1Score': 0.79955703, 'precision': 0.82232344, 'confidenceThreshold': 0.47, 'recall': 0.7780172}, {'confidenceThreshold': 0.37, 'f1Score': 0.799117, 'recall': 0.7801724, 'precision': 0.81900454}, {'precision': 0.8447059, 'recall': 0.7737069, 'f1Score': 0.8076491, 'confidenceThreshold': 0.65}, {'precision': 0.81900454, 'confidenceThreshold': 0.07, 'recall': 0.7801724, 'f1Score': 0.799117}, {'recall': 0.7801724, 'confidenceThreshold': 0.23, 'precision': 0.81900454, 'f1Score': 0.799117}, {'f1Score': 0.799117, 'confidenceThreshold': 0.1, 'recall': 0.7801724, 'precision': 0.81900454}, {'recall': 0.7801724, 'confidenceThreshold': 0.0, 'precision': 0.81900454, 'f1Score': 0.799117}, {'confidenceThreshold': 0.97, 'recall': 0.7219828, 'f1Score': 0.7900943, 'precision': 0.8723958}, {'recall': 0.7780172, 'precision': 0.82988507, 'f1Score': 0.8031146, 'confidenceThreshold': 0.56}, {'recall': 0.7801724, 'f1Score': 0.799117, 'confidenceThreshold': 0.33, 'precision': 0.81900454}, {'confidenceThreshold': 0.87, 'precision': 0.85679615, 'f1Score': 0.8059361, 'recall': 0.76077586}, {'precision': 0.8356481, 'confidenceThreshold': 0.59, 'recall': 0.7780172, 'f1Score': 0.80580354}, {'f1Score': 0.799117, 'precision': 0.81900454, 'confidenceThreshold': 0.35, 'recall': 0.7801724}, {'precision': 0.0, 'f1Score': 0.0, 'recall': 0.0, 'confidenceThreshold': 1.0}, {'recall': 0.7801724, 'precision': 0.81900454, 'f1Score': 0.799117, 'confidenceThreshold': 0.02}, {'confidenceThreshold': 0.92, 'precision': 0.86600494, 'f1Score': 0.805075, 'recall': 0.7521552}, {'f1Score': 0.8085106, 'confidenceThreshold': 0.6, 'recall': 0.7780172, 'precision': 0.8414918}, {'precision': 0.8463357, 'f1Score': 0.80721533, 'confidenceThreshold': 0.75, 'recall': 0.7715517}, {'confidenceThreshold': 0.16, 'recall': 0.7801724, 'f1Score': 0.799117, 'precision': 0.81900454}, {'recall': 0.7780172, 'precision': 0.82798165, 'f1Score': 0.8022222, 'confidenceThreshold': 0.5}, {'confidenceThreshold': 0.62, 'f1Score': 0.8071749, 'recall': 0.7758621, 'precision': 0.8411215}, {'f1Score': 0.8071749, 'confidenceThreshold': 0.61, 'precision': 0.8411215, 'recall': 0.7758621}, {'recall': 0.7801724, 'f1Score': 0.799117, 'confidenceThreshold': 0.15, 'precision': 0.81900454}, {'precision': 0.85202867, 'f1Score': 0.80860704, 'confidenceThreshold': 0.81, 'recall': 0.76939654}, {'precision': 0.82045454, 'f1Score': 0.79867256, 'recall': 0.7780172, 'confidenceThreshold': 0.45}, {'precision': 0.82045454, 'f1Score': 0.79867256, 'recall': 0.7780172, 'confidenceThreshold': 0.41}, {'f1Score': 0.80898875, 'precision': 0.8450704, 'confidenceThreshold': 0.64, 'recall': 0.7758621}, {'precision': 0.82988507, 'recall': 0.7780172, 'confidenceThreshold': 0.54, 'f1Score': 0.8031146}, {'recall': 0.7737069, 'f1Score': 0.8085586, 'precision': 0.8466981, 'confidenceThreshold': 0.72}, {'confidenceThreshold': 0.68, 'recall': 0.7737069, 'precision': 0.8466981, 'f1Score': 0.8085586}, {'f1Score': 0.80093133, 'recall': 0.7413793, 'confidenceThreshold': 0.95, 'precision': 0.8708861}, {'recall': 0.74568963, 'f1Score': 0.8009259, 'precision': 0.865, 'confidenceThreshold': 0.93}, {'precision': 0.81900454, 'recall': 0.7801724, 'f1Score': 0.799117, 'confidenceThreshold': 0.22}, {'f1Score': 0.799117, 'confidenceThreshold': 0.11, 'precision': 0.81900454, 'recall': 0.7801724}, {'f1Score': 0.80721533, 'confidenceThreshold': 0.76, 'recall': 0.7715517, 'precision': 0.8463357}, {'f1Score': 0.8028005, 'recall': 0.7413793, 'confidenceThreshold': 0.96, 'precision': 0.87531805}, {'precision': 0.81900454, 'confidenceThreshold': 0.01, 'f1Score': 0.799117, 'recall': 0.7801724}, {'recall': 0.7564655, 'confidenceThreshold': 0.89, 'precision': 0.8581907, 'f1Score': 0.8041237}, {'recall': 0.7801724, 'precision': 0.81900454, 'f1Score': 0.799117, 'confidenceThreshold': 0.27}, {'precision': 0.81900454, 'recall': 0.7801724, 'confidenceThreshold': 0.29, 'f1Score': 0.799117}, {'precision': 0.85, 'confidenceThreshold': 0.8, 'recall': 0.76939654, 'f1Score': 0.8076923}, {'recall': 0.7758621, 'precision': 0.8411215, 'f1Score': 0.8071749, 'confidenceThreshold': 0.63}, {'f1Score': 0.8068182, 'precision': 0.85336536, 'confidenceThreshold': 0.83, 'recall': 0.76508623}, {'f1Score': 0.799117, 'precision': 0.81900454, 'recall': 0.7801724, 'confidenceThreshold': 0.25}, {'confidenceThreshold': 0.17, 'recall': 0.7801724, 'f1Score': 0.799117, 'precision': 0.81900454}, {'recall': 0.7801724, 'f1Score': 0.799117, 'confidenceThreshold': 0.08, 'precision': 0.81900454}, {'confidenceThreshold': 0.46, 'f1Score': 0.79867256, 'recall': 0.7780172, 'precision': 0.82045454}, {'precision': 0.81900454, 'confidenceThreshold': 0.18, 'recall': 0.7801724, 'f1Score': 0.799117}, {'f1Score': 0.799117, 'recall': 0.7801724, 'precision': 0.81900454, 'confidenceThreshold': 0.28}, {'f1Score': 0.799117, 'precision': 0.81900454, 'confidenceThreshold': 0.36, 'recall': 0.7801724}, {'recall': 0.7801724, 'f1Score': 0.799117, 'confidenceThreshold': 0.14, 'precision': 0.81900454}, {'f1Score': 0.799117, 'precision': 0.81900454, 'recall': 0.7801724, 'confidenceThreshold': 0.05}, {'recall': 0.76508623, 'f1Score': 0.80773604, 'precision': 0.85542166, 'confidenceThreshold': 0.85}, {'f1Score': 0.8031146, 'recall': 0.7780172, 'confidenceThreshold': 0.57, 'precision': 0.82988507}, {'confidenceThreshold': 0.88, 'precision': 0.85679615, 'recall': 0.76077586, 'f1Score': 0.8059361}, {'confidenceThreshold': 0.06, 'precision': 0.81900454, 'f1Score': 0.799117, 'recall': 0.7801724}, {'f1Score': 0.80139375, 'precision': 0.86901766, 'recall': 0.7435345, 'confidenceThreshold': 0.94}, {'recall': 0.7780172, 'f1Score': 0.8031146, 'precision': 0.82988507, 'confidenceThreshold': 0.58}, {'recall': 0.7801724, 'confidenceThreshold': 0.31, 'f1Score': 0.799117, 'precision': 0.81900454}, {'confidenceThreshold': 0.24, 'recall': 0.7801724, 'precision': 0.81900454, 'f1Score': 0.799117}, {'confidenceThreshold': 0.69, 'recall': 0.7737069, 'precision': 0.8466981, 'f1Score': 0.8085586}, {'f1Score': 0.8085586, 'recall': 0.7737069, 'confidenceThreshold': 0.67, 'precision': 0.8466981}, {'confidenceThreshold': 0.78, 'recall': 0.7715517, 'precision': 0.8483412, 'f1Score': 0.8081264}, {'precision': 0.82045454, 'confidenceThreshold': 0.44, 'recall': 0.7780172, 'f1Score': 0.79867256}, {'f1Score': 0.80721533, 'recall': 0.7715517, 'confidenceThreshold': 0.74, 'precision': 0.8463357}, {'precision': 0.8463357, 'f1Score': 0.80721533, 'recall': 0.7715517, 'confidenceThreshold': 0.77}, {'confidenceThreshold': 0.39, 'recall': 0.7780172, 'precision': 0.8185941, 'f1Score': 0.79779005}, {'confidenceThreshold': 0.32, 'recall': 0.7801724, 'f1Score': 0.799117, 'precision': 0.81900454}, {'precision': 0.82608694, 'f1Score': 0.8013318, 'recall': 0.7780172, 'confidenceThreshold': 0.48}, {'confidenceThreshold': 0.84, 'f1Score': 0.80773604, 'recall': 0.76508623, 'precision': 0.85542166}, {'f1Score': 0.7776428, 'recall': 0.6896552, 'precision': 0.89136493, 'confidenceThreshold': 0.99}, {'precision': 0.8185941, 'f1Score': 0.79779005, 'confidenceThreshold': 0.38, 'recall': 0.7780172}, {'precision': 0.82988507, 'f1Score': 0.8031146, 'confidenceThreshold': 0.53, 'recall': 0.7780172}, {'f1Score': 0.799117, 'precision': 0.81900454, 'recall': 0.7801724, 'confidenceThreshold': 0.21}, {'recall': 0.7801724, 'precision': 0.81900454, 'f1Score': 0.799117, 'confidenceThreshold': 0.3}, {'confidenceThreshold': 0.09, 'recall': 0.7801724, 'precision': 0.81900454, 'f1Score': 0.799117}, {'confidenceThreshold': 0.51, 'recall': 0.7780172, 'f1Score': 0.8031146, 'precision': 0.82988507}, {'confidenceThreshold': 0.4, 'recall': 0.7780172, 'f1Score': 0.79867256, 'precision': 0.82045454}, {'confidenceThreshold': 0.19, 'precision': 0.81900454, 'recall': 0.7801724, 'f1Score': 0.799117}, {'f1Score': 0.8085586, 'precision': 0.8466981, 'confidenceThreshold': 0.71, 'recall': 0.7737069}], 'confusionMatrix': {'annotationSpecs': [{'displayName': 'NULL'}, {'displayName': 'Modifier', 'id': '1791126706757566464'}, {'displayName': 'DiseaseClass', 'id': '2944048211364413440'}, {'id': '5249891220578107392', 'displayName': 'SpecificDisease'}, {'displayName': 'CompositeMention', 'id': '7555734229791801344'}], 'rows': [[0.0, 13.0, 17.0, 18.0, 0.0], [18.0, 88.0, 0.0, 1.0, 0.0], [7.0, 2.0, 39.0, 9.0, 0.0], [42.0, 1.0, 17.0, 231.0, 0.0], [3.0, 1.0, 1.0, 0.0, 4.0]]}}, 'createTime': '2023-12-26T13:46:18.395876Z', 'sliceDimensions': ['annotationSpec'], 'annotationSchemaUri': 'gs://google-cloud-aiplatform/schema/dataset/annotation/text_extraction_1.0.0.yaml'}\n"
          ]
        }
      ],
      "source": [
        "model_evaluations = model.list_model_evaluations()\n",
        "\n",
        "for model_evaluation in model_evaluations:\n",
        "    print(model_evaluation.to_dict())"
      ]
    },
    {
      "cell_type": "markdown",
      "metadata": {
        "id": "make_prediction"
      },
      "source": [
        "## Send a batch prediction request\n",
        "\n",
        "Send a batch prediction to deployed model."
      ]
    },
    {
      "cell_type": "markdown",
      "metadata": {
        "id": "make_test_items:automl,batch_prediction"
      },
      "source": [
        "### Make test items\n",
        "\n",
        "You use synthetic data as a test data items. Don't be concerned that we are using synthetic data -- we just want to demonstrate how to make a prediction."
      ]
    },
    {
      "cell_type": "code",
      "execution_count": 19,
      "metadata": {
        "id": "make_test_items:automl,text,biomedical"
      },
      "outputs": [],
      "source": [
        "test_item_1 = 'Molecular basis of hexosaminidase A deficiency and pseudodeficiency in the Berks County Pennsylvania Dutch.\\tFollowing the birth of two infants with Tay-Sachs disease ( TSD ) , a non-Jewish , Pennsylvania Dutch kindred was screened for TSD carriers using the biochemical assay . A high frequency of individuals who appeared to be TSD heterozygotes was detected ( Kelly et al . , 1975 ) . Clinical and biochemical evidence suggested that the increased carrier frequency was due to at least two altered alleles for the hexosaminidase A alpha-subunit . We now report two mutant alleles in this Pennsylvania Dutch kindred , and one polymorphism . One allele , reported originally in a French TSD patient ( Akli et al . , 1991 ) , is a GT-- > AT transition at the donor splice-site of intron 9 . The second , a C-- > T transition at nucleotide 739 ( Arg247Trp ) , has been shown by Triggs-Raine et al . ( 1992 ) to be a clinically benign \" pseudodeficient \" allele associated with reduced enzyme activity against artificial substrate . Finally , a polymorphism [ G-- > A ( 759 ) ] , which leaves valine at codon 253 unchanged , is described'\n",
        "test_item_2 = \"Analysis of alkaptonuria (AKU) mutations and polymorphisms reveals that the CCC sequence motif is a mutational hot spot in the homogentisate 1,2 dioxygenase gene (HGO).\tWe recently showed that alkaptonuria ( AKU ) is caused by loss-of-function mutations in the homogentisate 1 , 2 dioxygenase gene ( HGO ) . Herein we describe haplotype and mutational analyses of HGO in seven new AKU pedigrees . These analyses identified two novel single-nucleotide polymorphisms ( INV4 + 31A-- > G and INV11 + 18A-- > G ) and six novel AKU mutations ( INV1-1G-- > A , W60G , Y62C , A122D , P230T , and D291E ) , which further illustrates the remarkable allelic heterogeneity found in AKU . Reexamination of all 29 mutations and polymorphisms thus far described in HGO shows that these nucleotide changes are not randomly distributed ; the CCC sequence motif and its inverted complement , GGG , are preferentially mutated . These analyses also demonstrated that the nucleotide substitutions in HGO do not involve CpG dinucleotides , which illustrates important differences between HGO and other genes for the occurrence of mutation at specific short-sequence motifs . Because the CCC sequence motifs comprise a significant proportion ( 34 . 5 % ) of all mutated bases that have been observed in HGO , we conclude that the CCC triplet is a mutational hot spot in HGO .\""
      ]
    },
    {
      "cell_type": "markdown",
      "metadata": {
        "id": "make_batch_file:automl,text"
      },
      "source": [
        "### Make the batch input file\n",
        "\n",
        "Now make a batch input file, which you will store in your local Cloud Storage bucket. The batch input file can only be in JSONL format. For JSONL file, you make one dictionary entry per line for each data item (instance). The dictionary contains the key/value pairs:\n",
        "\n",
        "- `content`: The Cloud Storage path to the file with the text item.\n",
        "- `mime_type`: The content type. In our example, it is a `text` file.\n",
        "\n",
        "For example:\n",
        "\n",
        "                        {'content': '[your-bucket]/file1.txt', 'mime_type': 'text'}"
      ]
    },
    {
      "cell_type": "code",
      "execution_count": 20,
      "metadata": {
        "colab": {
          "base_uri": "https://localhost:8080/"
        },
        "id": "CbZiABORubcA",
        "outputId": "e0e41f57-8b82-4e64-9638-c964a536d875"
      },
      "outputs": [
        {
          "output_type": "stream",
          "name": "stdout",
          "text": [
            "gs://your-bucket-name-platformwenda-1571901528109-unique/test.jsonl\n",
            "{\"content\": \"gs://your-bucket-name-platformwenda-1571901528109-unique/test1.txt\", \"mime_type\": \"text/plain\"}\n",
            "{\"content\": \"gs://your-bucket-name-platformwenda-1571901528109-unique/test2.txt\", \"mime_type\": \"text/plain\"}\n"
          ]
        }
      ],
      "source": [
        "import json\n",
        "\n",
        "import tensorflow as tf\n",
        "\n",
        "gcs_test_item_1 = BUCKET_URI + \"/test1.txt\"\n",
        "with tf.io.gfile.GFile(gcs_test_item_1, \"w\") as f:\n",
        "    f.write(test_item_1 + \"\\n\")\n",
        "gcs_test_item_2 = BUCKET_URI + \"/test2.txt\"\n",
        "with tf.io.gfile.GFile(gcs_test_item_2, \"w\") as f:\n",
        "    f.write(test_item_2 + \"\\n\")\n",
        "\n",
        "gcs_input_uri = BUCKET_URI + \"/test.jsonl\"\n",
        "with tf.io.gfile.GFile(gcs_input_uri, \"w\") as f:\n",
        "    data = {\"content\": gcs_test_item_1, \"mime_type\": \"text/plain\"}\n",
        "    f.write(json.dumps(data) + \"\\n\")\n",
        "    data = {\"content\": gcs_test_item_2, \"mime_type\": \"text/plain\"}\n",
        "    f.write(json.dumps(data) + \"\\n\")\n",
        "\n",
        "print(gcs_input_uri)\n",
        "! gsutil cat $gcs_input_uri"
      ]
    },
    {
      "cell_type": "markdown",
      "metadata": {
        "id": "batch_request:mbsdk"
      },
      "source": [
        "### Make the batch prediction request\n",
        "\n",
        "Now that your Model resource is trained, you can make a batch prediction by invoking the batch_predict() method, with the following parameters:\n",
        "\n",
        "- `job_display_name`: The human readable name for the batch prediction job.\n",
        "- `gcs_source`: A list of one or more batch request input files.\n",
        "- `gcs_destination_prefix`: The Cloud Storage location for storing the batch prediction resuls.\n",
        "- `sync`: If set to True, the call will block while waiting for the asynchronous batch job to complete."
      ]
    },
    {
      "cell_type": "code",
      "execution_count": 21,
      "metadata": {
        "colab": {
          "base_uri": "https://localhost:8080/"
        },
        "id": "3N5QKim9ubcA",
        "outputId": "615200e0-f2b6-4db8-eaa4-9f1eb2de0b2c"
      },
      "outputs": [
        {
          "output_type": "stream",
          "name": "stderr",
          "text": [
            "INFO:google.cloud.aiplatform.jobs:Creating BatchPredictionJob\n"
          ]
        },
        {
          "output_type": "stream",
          "name": "stdout",
          "text": [
            "<google.cloud.aiplatform.jobs.BatchPredictionJob object at 0x7fdb5a7cfac0> is waiting for upstream dependencies to complete.\n"
          ]
        }
      ],
      "source": [
        "batch_predict_job = model.batch_predict(\n",
        "    job_display_name=\"biomedical\",\n",
        "    gcs_source=gcs_input_uri,\n",
        "    gcs_destination_prefix=BUCKET_URI,\n",
        "    sync=False,\n",
        ")\n",
        "\n",
        "print(batch_predict_job)"
      ]
    },
    {
      "cell_type": "markdown",
      "metadata": {
        "id": "batch_request_wait:mbsdk"
      },
      "source": [
        "### Wait for completion of batch prediction job\n",
        "\n",
        "Next, wait for the batch job to complete. Alternatively, one can set the parameter `sync` to `True` in the `batch_predict()` method to block until the batch prediction job is completed."
      ]
    },
    {
      "cell_type": "code",
      "execution_count": 22,
      "metadata": {
        "colab": {
          "base_uri": "https://localhost:8080/"
        },
        "id": "ZeXK4BRrubcA",
        "outputId": "8424da2d-d789-4563-e4e8-b574de0adf30"
      },
      "outputs": [
        {
          "output_type": "stream",
          "name": "stderr",
          "text": [
            "INFO:google.cloud.aiplatform.jobs:BatchPredictionJob projects/417928338756/locations/us-central1/batchPredictionJobs/6285411752653881344 current state:\n",
            "JobState.JOB_STATE_PENDING\n",
            "INFO:google.cloud.aiplatform.jobs:BatchPredictionJob projects/417928338756/locations/us-central1/batchPredictionJobs/6285411752653881344 current state:\n",
            "JobState.JOB_STATE_PENDING\n",
            "INFO:google.cloud.aiplatform.jobs:BatchPredictionJob projects/417928338756/locations/us-central1/batchPredictionJobs/6285411752653881344 current state:\n",
            "JobState.JOB_STATE_PENDING\n",
            "INFO:google.cloud.aiplatform.jobs:BatchPredictionJob projects/417928338756/locations/us-central1/batchPredictionJobs/6285411752653881344 current state:\n",
            "JobState.JOB_STATE_PENDING\n",
            "INFO:google.cloud.aiplatform.jobs:BatchPredictionJob projects/417928338756/locations/us-central1/batchPredictionJobs/6285411752653881344 current state:\n",
            "JobState.JOB_STATE_RUNNING\n",
            "INFO:google.cloud.aiplatform.jobs:BatchPredictionJob projects/417928338756/locations/us-central1/batchPredictionJobs/6285411752653881344 current state:\n",
            "JobState.JOB_STATE_RUNNING\n",
            "INFO:google.cloud.aiplatform.jobs:BatchPredictionJob projects/417928338756/locations/us-central1/batchPredictionJobs/6285411752653881344 current state:\n",
            "JobState.JOB_STATE_RUNNING\n",
            "INFO:google.cloud.aiplatform.jobs:BatchPredictionJob projects/417928338756/locations/us-central1/batchPredictionJobs/6285411752653881344 current state:\n",
            "JobState.JOB_STATE_SUCCEEDED\n",
            "INFO:google.cloud.aiplatform.jobs:BatchPredictionJob run completed. Resource name: projects/417928338756/locations/us-central1/batchPredictionJobs/6285411752653881344\n"
          ]
        }
      ],
      "source": [
        "batch_predict_job.wait()"
      ]
    },
    {
      "cell_type": "markdown",
      "metadata": {
        "id": "get_batch_prediction:mbsdk,ten"
      },
      "source": [
        "### Get the predictions\n",
        "\n",
        "Next, get the results from the completed batch prediction job.\n",
        "\n",
        "The results are written to the Cloud Storage output bucket you specified in the batch prediction request. You call the method iter_outputs() to get a list of each Cloud Storage file generated with the results. Each file contains one or more prediction requests in a JSON format:\n",
        "\n",
        "- `content`: The prediction request.\n",
        "- `prediction`: The prediction response.\n",
        " - `ids`: The internal assigned unique identifiers for each prediction request.\n",
        " - `displayNames`: The class names for each class label.\n",
        " - `confidences`: The predicted confidence, between 0 and 1, per class label.\n",
        " - `textSegmentStartOffsets`: The character offset in the text to the start of the entity.\n",
        " - `textSegmentEndOffsets`: The character offset in the text to the end of the entity."
      ]
    },
    {
      "cell_type": "code",
      "execution_count": 23,
      "metadata": {
        "colab": {
          "base_uri": "https://localhost:8080/"
        },
        "id": "MTwRv31rubcA",
        "outputId": "0d0cb996-8ac2-47cd-d829-724b7247c219"
      },
      "outputs": [
        {
          "output_type": "stream",
          "name": "stdout",
          "text": [
            "{'instance': {'content': 'gs://your-bucket-name-platformwenda-1571901528109-unique/test1.txt', 'mimeType': 'text/plain'}, 'prediction': {'ids': ['5249891220578107392', '5249891220578107392', '5249891220578107392', '1791126706757566464', '1791126706757566464', '1791126706757566464'], 'displayNames': ['SpecificDisease', 'SpecificDisease', 'SpecificDisease', 'Modifier', 'Modifier', 'Modifier'], 'textSegmentStartOffsets': ['148', '19', '168', '687', '235', '329'], 'textSegmentEndOffsets': ['164', '45', '170', '689', '237', '331'], 'confidences': [0.9995832, 0.9994369, 0.9992721, 0.999064, 0.9990259, 0.99899685]}}\n"
          ]
        }
      ],
      "source": [
        "import json\n",
        "\n",
        "import tensorflow as tf\n",
        "\n",
        "bp_iter_outputs = batch_predict_job.iter_outputs()\n",
        "\n",
        "prediction_results = list()\n",
        "for blob in bp_iter_outputs:\n",
        "    if blob.name.split(\"/\")[-1].startswith(\"prediction\"):\n",
        "        prediction_results.append(blob.name)\n",
        "\n",
        "tags = list()\n",
        "for prediction_result in prediction_results:\n",
        "    gfile_name = f\"gs://{bp_iter_outputs.bucket.name}/{prediction_result}\"\n",
        "    with tf.io.gfile.GFile(name=gfile_name, mode=\"r\") as gfile:\n",
        "        for line in gfile.readlines():\n",
        "            line = json.loads(line)\n",
        "            print(line)\n",
        "            break"
      ]
    },
    {
      "cell_type": "markdown",
      "metadata": {
        "id": "cleanup:mbsdk"
      },
      "source": [
        "# Cleaning up\n",
        "\n",
        "To clean up all Google Cloud resources used in this project, you can [delete the Google Cloud\n",
        "project](https://cloud.google.com/resource-manager/docs/creating-managing-projects#shutting_down_projects) you used for the tutorial.\n",
        "\n",
        "Otherwise, you can delete the individual resources you created in this tutorial."
      ]
    },
    {
      "cell_type": "code",
      "execution_count": null,
      "metadata": {
        "id": "O7wXs89gubcB"
      },
      "outputs": [],
      "source": [
        "import os\n",
        "\n",
        "delete_bucket = False\n",
        "\n",
        "if delete_bucket or os.getenv(\"IS_TESTING\"):\n",
        "    ! gsutil rm -r $BUCKET_URI\n",
        "\n",
        "# Delete batch\n",
        "batch_predict_job.delete()\n",
        "\n",
        "# Delete model\n",
        "model.delete()\n",
        "\n",
        "# Delete text dataset\n",
        "dataset.delete()\n",
        "\n",
        "# Delete training job\n",
        "dag.delete()"
      ]
    }
  ],
  "metadata": {
    "colab": {
      "provenance": []
    },
    "kernelspec": {
      "display_name": "Python 3",
      "name": "python3"
    }
  },
  "nbformat": 4,
  "nbformat_minor": 0
}